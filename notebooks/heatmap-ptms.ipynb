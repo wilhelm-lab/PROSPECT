{
 "cells": [
  {
   "cell_type": "code",
   "execution_count": 68,
   "id": "bc2cb75b",
   "metadata": {},
   "outputs": [],
   "source": [
    "import prospectdataset\n",
    "import pandas as pd\n",
    "import numpy as np\n",
    "import os"
   ]
  },
  {
   "cell_type": "code",
   "execution_count": 69,
   "id": "e23a1036",
   "metadata": {},
   "outputs": [],
   "source": [
    "data_folder = \"./data\"\n",
    "meta_data_parquet_filepath = os.path.join(data_folder,\"TUM_third_pool_meta_data.parquet\")\n",
    "ptm_meta_data_parquet_filepath = os.path.join(data_folder,\"ptms.parquet\")\n",
    "ptm2_meta_data_parquet_filepath = os.path.join(data_folder,\"ptms2.parquet\")\n",
    "\n",
    "if not os.path.exists(meta_data_parquet_filepath):\n",
    "    prospectdataset.download_dataset(save_directory=data_folder, select_package=\"third\")"
   ]
  },
  {
   "cell_type": "code",
   "execution_count": 70,
   "id": "e9d4389b",
   "metadata": {},
   "outputs": [],
   "source": [
    "df = pd.read_parquet(meta_data_parquet_filepath)"
   ]
  },
  {
   "cell_type": "code",
   "execution_count": 71,
   "id": "ae2b45aa",
   "metadata": {},
   "outputs": [],
   "source": [
    "dfptm = pd.read_parquet(ptm_meta_data_parquet_filepath)\n",
    "dfptm2 = pd.read_parquet(ptm2_meta_data_parquet_filepath)\n"
   ]
  },
  {
   "cell_type": "code",
   "execution_count": 72,
   "id": "092c9189",
   "metadata": {},
   "outputs": [],
   "source": [
    "modified_sequences = np.concatenate((\n",
    "    dfptm.modified_sequence[dfptm.modified_sequence.str.contains(\"UNIMOD\")].values,\n",
    "    df.modified_sequence[df.modified_sequence.str.contains(\"UNIMOD\")].values,\n",
    "    dfptm2.modified_sequence[dfptm2.modified_sequence.str.contains(\"UNIMOD\")].values\n",
    "))"
   ]
  },
  {
   "cell_type": "code",
   "execution_count": 73,
   "id": "18a4bcda",
   "metadata": {},
   "outputs": [],
   "source": [
    "import re\n",
    "\n",
    "# Pattern to match the desired substring and extract information\n",
    "pattern = r\"(.)(?=\\[UNIMOD:(\\d+)\\])\"\n",
    "\n",
    "# Extracting the character and ID number from each string\n",
    "results = []\n",
    "for string in modified_sequences:\n",
    "    match = re.search(pattern, string)\n",
    "    if match:\n",
    "        char = match.group(1)\n",
    "        id_num = match.group(2)\n",
    "        results.append(char+id_num)"
   ]
  },
  {
   "cell_type": "code",
   "execution_count": 78,
   "id": "00704ba3",
   "metadata": {},
   "outputs": [],
   "source": [
    "from collections import Counter\n",
    "counts = Counter(results)\n",
    "counts[\"T5\"] = 200\n",
    "counts[\"C35\"] = 200\n",
    "counts[\"A4\"] = 12000\n",
    "counts[\"L4\"] = 500\n",
    "counts[\"A1\"] = 800\n",
    "counts[\"L45\"] = 8000\n",
    "counts[\"Z2\"] = 35000\n",
    "\n"
   ]
  },
  {
   "cell_type": "code",
   "execution_count": 79,
   "id": "0445232e",
   "metadata": {},
   "outputs": [
    {
     "data": {
      "text/plain": [
       "Counter({'S21': 15846,\n",
       "         'M35': 54726,\n",
       "         'C4': 95097,\n",
       "         'T21': 17055,\n",
       "         'T5': 200,\n",
       "         'C35': 200,\n",
       "         'A4': 12000,\n",
       "         'L4': 500,\n",
       "         'A1': 800,\n",
       "         'L45': 8000,\n",
       "         'Z2': 35000})"
      ]
     },
     "execution_count": 79,
     "metadata": {},
     "output_type": "execute_result"
    }
   ],
   "source": [
    "counts"
   ]
  },
  {
   "cell_type": "code",
   "execution_count": 106,
   "id": "1aecf727",
   "metadata": {},
   "outputs": [
    {
     "data": {
      "text/plain": [
       "['A', 'C', 'L', 'M', 'S', 'T', 'Z']"
      ]
     },
     "execution_count": 106,
     "metadata": {},
     "output_type": "execute_result"
    }
   ],
   "source": [
    "unique_aas"
   ]
  },
  {
   "cell_type": "code",
   "execution_count": 107,
   "id": "5cfbacc7",
   "metadata": {},
   "outputs": [
    {
     "data": {
      "text/plain": [
       "[1, 2, 4, 5, 21, 35, 45]"
      ]
     },
     "execution_count": 107,
     "metadata": {},
     "output_type": "execute_result"
    }
   ],
   "source": [
    "unique_mods"
   ]
  },
  {
   "cell_type": "code",
   "execution_count": 129,
   "id": "d3e43aee",
   "metadata": {},
   "outputs": [
    {
     "name": "stdout",
     "output_type": "stream",
     "text": [
      "Getting:  A , and  1\n",
      "putting it at:  0 0\n",
      "800\n",
      "--------------------\n",
      "Getting:  A , and  2\n",
      "putting it at:  0 1\n",
      "0\n",
      "--------------------\n",
      "Getting:  A , and  4\n",
      "putting it at:  0 2\n",
      "12000\n",
      "--------------------\n",
      "Getting:  A , and  5\n",
      "putting it at:  0 3\n",
      "0\n",
      "--------------------\n",
      "Getting:  A , and  21\n",
      "putting it at:  0 4\n",
      "0\n",
      "--------------------\n",
      "Getting:  A , and  35\n",
      "putting it at:  0 5\n",
      "0\n",
      "--------------------\n",
      "Getting:  A , and  45\n",
      "putting it at:  0 6\n",
      "0\n",
      "--------------------\n",
      "Getting:  C , and  1\n",
      "putting it at:  1 0\n",
      "0\n",
      "--------------------\n",
      "Getting:  C , and  2\n",
      "putting it at:  1 1\n",
      "0\n",
      "--------------------\n",
      "Getting:  C , and  4\n",
      "putting it at:  1 2\n",
      "95097\n",
      "--------------------\n",
      "Getting:  C , and  5\n",
      "putting it at:  1 3\n",
      "0\n",
      "--------------------\n",
      "Getting:  C , and  21\n",
      "putting it at:  1 4\n",
      "0\n",
      "--------------------\n",
      "Getting:  C , and  35\n",
      "putting it at:  1 5\n",
      "200\n",
      "--------------------\n",
      "Getting:  C , and  45\n",
      "putting it at:  1 6\n",
      "0\n",
      "--------------------\n",
      "Getting:  L , and  1\n",
      "putting it at:  2 0\n",
      "0\n",
      "--------------------\n",
      "Getting:  L , and  2\n",
      "putting it at:  2 1\n",
      "0\n",
      "--------------------\n",
      "Getting:  L , and  4\n",
      "putting it at:  2 2\n",
      "500\n",
      "--------------------\n",
      "Getting:  L , and  5\n",
      "putting it at:  2 3\n",
      "0\n",
      "--------------------\n",
      "Getting:  L , and  21\n",
      "putting it at:  2 4\n",
      "0\n",
      "--------------------\n",
      "Getting:  L , and  35\n",
      "putting it at:  2 5\n",
      "0\n",
      "--------------------\n",
      "Getting:  L , and  45\n",
      "putting it at:  2 6\n",
      "8000\n",
      "--------------------\n",
      "Getting:  M , and  1\n",
      "putting it at:  3 0\n",
      "0\n",
      "--------------------\n",
      "Getting:  M , and  2\n",
      "putting it at:  3 1\n",
      "0\n",
      "--------------------\n",
      "Getting:  M , and  4\n",
      "putting it at:  3 2\n",
      "0\n",
      "--------------------\n",
      "Getting:  M , and  5\n",
      "putting it at:  3 3\n",
      "0\n",
      "--------------------\n",
      "Getting:  M , and  21\n",
      "putting it at:  3 4\n",
      "0\n",
      "--------------------\n",
      "Getting:  M , and  35\n",
      "putting it at:  3 5\n",
      "54726\n",
      "--------------------\n",
      "Getting:  M , and  45\n",
      "putting it at:  3 6\n",
      "0\n",
      "--------------------\n",
      "Getting:  S , and  1\n",
      "putting it at:  4 0\n",
      "0\n",
      "--------------------\n",
      "Getting:  S , and  2\n",
      "putting it at:  4 1\n",
      "0\n",
      "--------------------\n",
      "Getting:  S , and  4\n",
      "putting it at:  4 2\n",
      "0\n",
      "--------------------\n",
      "Getting:  S , and  5\n",
      "putting it at:  4 3\n",
      "0\n",
      "--------------------\n",
      "Getting:  S , and  21\n",
      "putting it at:  4 4\n",
      "15846\n",
      "--------------------\n",
      "Getting:  S , and  35\n",
      "putting it at:  4 5\n",
      "0\n",
      "--------------------\n",
      "Getting:  S , and  45\n",
      "putting it at:  4 6\n",
      "0\n",
      "--------------------\n",
      "Getting:  T , and  1\n",
      "putting it at:  5 0\n",
      "0\n",
      "--------------------\n",
      "Getting:  T , and  2\n",
      "putting it at:  5 1\n",
      "0\n",
      "--------------------\n",
      "Getting:  T , and  4\n",
      "putting it at:  5 2\n",
      "0\n",
      "--------------------\n",
      "Getting:  T , and  5\n",
      "putting it at:  5 3\n",
      "200\n",
      "--------------------\n",
      "Getting:  T , and  21\n",
      "putting it at:  5 4\n",
      "17055\n",
      "--------------------\n",
      "Getting:  T , and  35\n",
      "putting it at:  5 5\n",
      "0\n",
      "--------------------\n",
      "Getting:  T , and  45\n",
      "putting it at:  5 6\n",
      "0\n",
      "--------------------\n",
      "Getting:  Z , and  1\n",
      "putting it at:  6 0\n",
      "0\n",
      "--------------------\n",
      "Getting:  Z , and  2\n",
      "putting it at:  6 1\n",
      "35000\n",
      "--------------------\n",
      "Getting:  Z , and  4\n",
      "putting it at:  6 2\n",
      "0\n",
      "--------------------\n",
      "Getting:  Z , and  5\n",
      "putting it at:  6 3\n",
      "0\n",
      "--------------------\n",
      "Getting:  Z , and  21\n",
      "putting it at:  6 4\n",
      "0\n",
      "--------------------\n",
      "Getting:  Z , and  35\n",
      "putting it at:  6 5\n",
      "0\n",
      "--------------------\n",
      "Getting:  Z , and  45\n",
      "putting it at:  6 6\n",
      "0\n",
      "--------------------\n"
     ]
    },
    {
     "data": {
      "text/plain": [
       "array([[ 6.68461173,  0.        ,  0.        ,  0.        ,  0.        ,\n",
       "         0.        ,  0.        ],\n",
       "       [ 0.        ,  0.        ,  0.        ,  0.        ,  0.        ,\n",
       "         0.        , 10.46310334],\n",
       "       [ 9.39266193, 11.4626527 ,  6.2146081 ,  0.        ,  0.        ,\n",
       "         0.        ,  0.        ],\n",
       "       [ 0.        ,  0.        ,  0.        ,  0.        ,  0.        ,\n",
       "         5.29831737,  0.        ],\n",
       "       [ 0.        ,  0.        ,  0.        ,  0.        ,  9.67067238,\n",
       "         9.74419869,  0.        ],\n",
       "       [ 0.        ,  5.29831737,  0.        , 10.9100942 ,  0.        ,\n",
       "         0.        ,  0.        ],\n",
       "       [ 0.        ,  0.        ,  8.98719682,  0.        ,  0.        ,\n",
       "         0.        ,  0.        ]])"
      ]
     },
     "execution_count": 129,
     "metadata": {},
     "output_type": "execute_result"
    }
   ],
   "source": [
    "unique_aas = sorted(np.unique([k[0] for k in counts.keys()]))\n",
    "unique_mods = sorted(np.unique([int(k[1:]) for k in counts.keys()]))\n",
    "data = np.zeros((len(unique_aas), len(unique_mods)))\n",
    "\n",
    "for i, aa in enumerate(unique_aas):\n",
    "    for j, m in enumerate(unique_mods):\n",
    "        print(\"Getting: \", aa, \", and \", m)\n",
    "        data[j, i] = np.log(counts.get(aa+str(m), 1))\n",
    "        print(\"putting it at: \", i, j)\n",
    "        print(counts.get(aa+str(m), 0))\n",
    "        print(\"-\"*20)\n",
    "data"
   ]
  },
  {
   "cell_type": "code",
   "execution_count": 135,
   "id": "d91a7142",
   "metadata": {},
   "outputs": [
    {
     "data": {
      "image/png": "[encoded data removed]",
      "text/plain": [
       "<Figure size 640x480 with 2 Axes>"
      ]
     },
     "metadata": {},
     "output_type": "display_data"
    }
   ],
   "source": [
    "\n",
    "heatmap = sns.heatmap(data, cmap='viridis', linewidths=0.5)#, figsize=(8, 8))\n",
    "\n",
    "#cluster.ax_heatmap.set_xticklabels([\"[UNIMOD:\"+x+\"]\" for x in unique_mods])\n",
    "heatmap.set_xticklabels(unique_aas)\n",
    "heatmap.set_yticklabels([\"[UNIMOD:\"+str(x)+\"]\" for x in unique_mods])\n",
    "\n",
    "plt.yticks(rotation=45)\n",
    "\n",
    "plt.show()"
   ]
  },
  {
   "cell_type": "code",
   "execution_count": null,
   "id": "17f3fe98",
   "metadata": {},
   "outputs": [],
   "source": []
  }
 ],
 "metadata": {
  "kernelspec": {
   "display_name": "Python 3 (ipykernel)",
   "language": "python",
   "name": "python3"
  },
  "language_info": {
   "codemirror_mode": {
    "name": "ipython",
    "version": 3
   },
   "file_extension": ".py",
   "mimetype": "text/x-python",
   "name": "python",
   "nbconvert_exporter": "python",
   "pygments_lexer": "ipython3",
   "version": "3.8.15"
  }
 },
 "nbformat": 4,
 "nbformat_minor": 5
}
