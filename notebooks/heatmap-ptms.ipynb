{
 "cells": [
  {
   "cell_type": "code",
   "execution_count": null,
   "id": "bc2cb75b",
   "metadata": {},
   "outputs": [],
   "source": [
    "import prospectdataset\n",
    "import pandas as pd\n",
    "import numpy as np\n",
    "import os\n",
    "import re\n",
    "from collections import Counter\n",
    "from itertools import chain\n",
    "import seaborn as sns\n",
    "import matplotlib.pyplot as plt"
   ]
  },
  {
   "cell_type": "code",
   "execution_count": null,
   "id": "b62f0009",
   "metadata": {},
   "outputs": [],
   "source": [
    "import glob\n",
    "files = glob.glob(\"./data/*.parquet\")"
   ]
  },
  {
   "cell_type": "code",
   "execution_count": null,
   "id": "573a64fe",
   "metadata": {},
   "outputs": [],
   "source": [
    "def get_aa_ptm_matrix_counts(metadata_files=[]):\n",
    "    \n",
    "    counter = Counter()\n",
    "    # Pattern to match the desired substring and extract information\n",
    "    pattern = r\"(.)(?=\\[UNIMOD:(\\d+)\\])\"\n",
    "    \n",
    "    for filepath in metadata_files:\n",
    "        df = pd.read_parquet(filepath)\n",
    "        occurences = df.modified_sequence[df.modified_sequence.str.contains(\"UNIMOD\")].apply(\n",
    "            lambda x: [m.group(1)+m.group(2) for m in re.finditer(pattern, x)]\n",
    "        )\n",
    "        \n",
    "        counter.update(list(chain.from_iterable(occurences)))\n",
    "    return counter\n",
    "\n",
    "\n",
    "        \n",
    "counter = get_aa_ptm_matrix_counts(files)\n",
    "\n",
    "unique_aas = sorted(np.unique([k[0] for k in counter.keys()]))\n",
    "unique_mods = sorted(np.unique([int(k[1:]) for k in counter.keys()]))\n",
    "data = np.ones((len(unique_aas), len(unique_mods)))\n",
    "\n",
    "for i, aa in enumerate(unique_aas):\n",
    "    for j, m in enumerate(unique_mods):\n",
    "        data[i, j] = np.log(counter.get(aa+str(m), 1))\n",
    "\n"
   ]
  },
  {
   "cell_type": "code",
   "execution_count": null,
   "id": "caf6670b",
   "metadata": {},
   "outputs": [],
   "source": [
    "unique_aas, unique_mods\n"
   ]
  },
  {
   "cell_type": "code",
   "execution_count": null,
   "id": "2cbd9e3f",
   "metadata": {},
   "outputs": [],
   "source": [
    "heatmap = sns.heatmap(data, cmap=\"RdBu_r\", linewidths=1)#, figsize=(8, 8))\n",
    "#heatmap = sns.heatmap(data, cmap=\"gist_gray_r\", linewidths=1)#, figsize=(8, 8))\n",
    "\n",
    "\n",
    "#cluster.ax_heatmap.set_xticklabels([\"[UNIMOD:\"+x+\"]\" for x in unique_mods])\n",
    "heatmap.set_yticklabels(unique_aas)\n",
    "heatmap.set_xticklabels([\"[UNIMOD:\"+str(x)+\"]\" for x in unique_mods])\n",
    "\n",
    "plt.yticks(rotation=45)\n",
    "plt.xticks(rotation=15)\n",
    "\n",
    "plt.savefig(\"heatmap.pdf\", format=\"pdf\")\n",
    "plt.show()"
   ]
  },
  {
   "cell_type": "code",
   "execution_count": null,
   "id": "e354a490",
   "metadata": {},
   "outputs": [],
   "source": [
    "d"
   ]
  },
  {
   "cell_type": "code",
   "execution_count": null,
   "id": "4a6a1007",
   "metadata": {},
   "outputs": [],
   "source": [
    "def get_aas_mods_frequencies(counter):\n",
    "\n",
    "    frequency_mods = {}\n",
    "    frequency_aas = {}\n",
    "\n",
    "    for k, v in counter.items():\n",
    "        aa = k[0]\n",
    "        mod = k[1:]\n",
    "        frequency_mods[mod] = frequency_mods.get(mod, 0) + v\n",
    "        frequency_aas[aa] = frequency_aas.get(aa, 0) + v\n",
    "        \n",
    "    return frequency_aas, frequency_mods\n",
    "\n",
    "f_aas, f_mods = get_aas_mods_frequencies(counter)"
   ]
  },
  {
   "cell_type": "code",
   "execution_count": null,
   "id": "cde04e9a",
   "metadata": {},
   "outputs": [],
   "source": [
    "f_aas, f_mods"
   ]
  },
  {
   "cell_type": "code",
   "execution_count": null,
   "id": "46f49189",
   "metadata": {},
   "outputs": [],
   "source": [
    "list(f_aas.values())"
   ]
  },
  {
   "cell_type": "code",
   "execution_count": null,
   "id": "493b87c1",
   "metadata": {},
   "outputs": [],
   "source": [
    "labels = list(f_aas.keys())\n",
    "bar_sizes = list(f_aas.values())\n",
    "\n",
    "# Create a DataFrame from the lists\n",
    "df = pd.DataFrame({'Amino Acid': labels, 'Count': bar_sizes}).sort_values(by = \"Count\", ascending = False)\n",
    "\n",
    "df.Count = np.log(df.Count)\n",
    "# Create horizontal bar plot using Seaborn\n",
    "sns.barplot(x='Count', y='Amino Acid', data=df, palette=\"RdBu_r\")\n",
    "plt.xlabel(\"Count (log scale)\")\n",
    "plt.savefig(\"aa_freq.pdf\", format=\"pdf\")\n",
    "plt.show()\n"
   ]
  },
  {
   "cell_type": "code",
   "execution_count": null,
   "id": "ce54518d",
   "metadata": {},
   "outputs": [],
   "source": [
    "np.log(df.Count)"
   ]
  },
  {
   "cell_type": "code",
   "execution_count": null,
   "id": "30aa1fef",
   "metadata": {},
   "outputs": [],
   "source": [
    "labels = list(f_mods.keys())\n",
    "bar_sizes = list(f_mods.values())\n",
    "\n",
    "# Create a DataFrame from the lists\n",
    "df = pd.DataFrame({'PTM - Unimod ID': labels, 'Count': bar_sizes}).sort_values(by = \"Count\", ascending = False)\n",
    "\n",
    "df.Count = np.log(df.Count)\n",
    "# Create horizontal bar plot using Seaborn\n",
    "ax = sns.barplot(x='Count', y='PTM - Unimod ID', data=df, palette=\"RdBu_r\")\n",
    "plt.xlabel(\"Count (log scale)\")\n",
    "plt.savefig(\"ptm_freq.pdf\", format=\"pdf\")\n",
    "\n",
    "plt.show()\n"
   ]
  },
  {
   "cell_type": "code",
   "execution_count": null,
   "id": "cd3923e0",
   "metadata": {},
   "outputs": [],
   "source": []
  },
  {
   "cell_type": "code",
   "execution_count": null,
   "id": "671a8b6a",
   "metadata": {},
   "outputs": [],
   "source": []
  }
 ],
 "metadata": {
  "kernelspec": {
   "display_name": "Python 3 (ipykernel)",
   "language": "python",
   "name": "python3"
  },
  "language_info": {
   "codemirror_mode": {
    "name": "ipython",
    "version": 3
   },
   "file_extension": ".py",
   "mimetype": "text/x-python",
   "name": "python",
   "nbconvert_exporter": "python",
   "pygments_lexer": "ipython3",
   "version": "3.8.15"
  }
 },
 "nbformat": 4,
 "nbformat_minor": 5
}
